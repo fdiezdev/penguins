{
  "cells": [
    {
      "cell_type": "markdown",
      "metadata": {
        "formattedRanges": [],
        "cell_id": "06d7e37446804a79978be62e20d5659e",
        "deepnote_cell_type": "text-cell-h1"
      },
      "source": "# Palmer penguins🐧🔍",
      "block_group": "2440793b122140e29e57780b8f3c8636"
    },
    {
      "cell_type": "code",
      "metadata": {
        "source_hash": "81919a32",
        "execution_start": 1740513272200,
        "execution_millis": 1213,
        "execution_context_id": "1651b855-d9ef-43d7-befa-6bc2b19af727",
        "cell_id": "60faa0dee5e545b78d0b410217c7b542",
        "deepnote_cell_type": "code"
      },
      "source": "import empiricaldist\nimport janitor\nimport matplotlib.pyplot as plt\nimport numpy as np\nimport palmerpenguins\nimport pandas as pd\nimport scipy.stats\nimport seaborn as sns\nimport sklearn.metrics\nimport statsmodels.api as sm\nimport statsmodels.formula.api as smf\nimport statsmodels.stats as ss\nimport session_info",
      "block_group": "bdebf0882d0f41b49095679d9e1b5a4b",
      "execution_count": 1,
      "outputs": [],
      "outputs_reference": null,
      "content_dependencies": null
    },
    {
      "cell_type": "markdown",
      "metadata": {
        "formattedRanges": [],
        "cell_id": "5e6f6599898649ceb5c922a29f942082",
        "deepnote_cell_type": "text-cell-p"
      },
      "source": "",
      "block_group": "f2cd7b8b3b7847c7849f5633a3f964b1"
    },
    {
      "cell_type": "code",
      "metadata": {
        "source_hash": "f87a87ef",
        "execution_start": 1740513273464,
        "execution_millis": 1,
        "execution_context_id": "1651b855-d9ef-43d7-befa-6bc2b19af727",
        "cell_id": "e6d0d077d94a4a2c807adfb4b682c567",
        "deepnote_cell_type": "code"
      },
      "source": "%matplotlib inline\nsns.set_style(style='whitegrid')\nsns.set_context(context='notebook')\nplt.rcParams['figure.figsize'] = (11, 9.4)\n\npenguin_color = {\n    'Adelie': '#ff6602ff',\n    'Gentoo': '#0f7175ff',\n    'Chinstrap': '#c65dc9ff'\n}",
      "block_group": "40f463edcfa040de8a0cff0c455ea6e2",
      "execution_count": 2,
      "outputs": [],
      "outputs_reference": null,
      "content_dependencies": null
    },
    {
      "cell_type": "code",
      "metadata": {
        "source_hash": "ae87fb5e",
        "execution_start": 1740513273520,
        "execution_millis": 17,
        "execution_context_id": "1651b855-d9ef-43d7-befa-6bc2b19af727",
        "cell_id": "2850675655334fdb8a06edd2775d8c0b",
        "deepnote_cell_type": "code"
      },
      "source": "raw_df = palmerpenguins.load_penguins_raw() # this is the raw dataframe\nraw_df",
      "block_group": "71a705d877e847e6a413b91c0909e96c",
      "execution_count": 3,
      "outputs": [],
      "outputs_reference": null,
      "content_dependencies": null
    },
    {
      "cell_type": "code",
      "metadata": {
        "source_hash": "167843d0",
        "execution_start": 1740513273592,
        "execution_millis": 0,
        "execution_context_id": "1651b855-d9ef-43d7-befa-6bc2b19af727",
        "cell_id": "1fd5db8d83d543e1a9d816b399f66ac4",
        "deepnote_cell_type": "code"
      },
      "source": "proc_df = palmerpenguins.load_penguins() # this is the pre-processed dataframe",
      "block_group": "fd497b0d293a460192bf1354ee0b4ec8",
      "execution_count": 4,
      "outputs": [],
      "outputs_reference": null,
      "content_dependencies": null
    },
    {
      "cell_type": "markdown",
      "metadata": {
        "formattedRanges": [],
        "cell_id": "c9381324ff994792b30dff1110e4d66c",
        "deepnote_cell_type": "text-cell-h1"
      },
      "source": "# Análisis del dataset",
      "block_group": "05dbf17f5fed47a589600da48e56d31f"
    },
    {
      "cell_type": "markdown",
      "metadata": {
        "formattedRanges": [],
        "cell_id": "009e57bc56ad4ed2ab5d11cf0c89ddd5",
        "deepnote_cell_type": "text-cell-p"
      },
      "source": "Debemos responder las siguientes preguntas:",
      "block_group": "7263dcae291b424ab7464e29f669901b"
    },
    {
      "cell_type": "markdown",
      "metadata": {
        "formattedRanges": [],
        "cell_id": "1005351a432b4bfb93ccf5fff80651c4",
        "deepnote_cell_type": "text-cell-h3"
      },
      "source": "### ¿Qué tipo de dato son las variables del conjunto de datos?",
      "block_group": "736647e53cd848709f16cbd5b94a0613"
    },
    {
      "cell_type": "code",
      "metadata": {
        "source_hash": "90fb6029",
        "execution_start": 1740513273644,
        "execution_millis": 1,
        "execution_context_id": "1651b855-d9ef-43d7-befa-6bc2b19af727",
        "cell_id": "347da42c20c846769d3a9e621efc2454",
        "deepnote_cell_type": "code"
      },
      "source": "proc_df.dtypes",
      "block_group": "97ab6be1edb6467ba2d7391c9e52375a",
      "execution_count": 5,
      "outputs": [],
      "outputs_reference": null,
      "content_dependencies": null
    },
    {
      "cell_type": "markdown",
      "metadata": {
        "formattedRanges": [],
        "cell_id": "e82ef4a30cc64bd182eae271a876b287",
        "deepnote_cell_type": "text-cell-p"
      },
      "source": "Obtenemos una lista de cada columna con su tipo de dato.",
      "block_group": "abdf3dd2d165436ba276e2f691b8ce7e"
    },
    {
      "cell_type": "markdown",
      "metadata": {
        "formattedRanges": [],
        "cell_id": "eb6723a449b1443d8457c2b847a372a0",
        "deepnote_cell_type": "text-cell-h3"
      },
      "source": "### ¿Cuántas variables de cada tipo de dato tenemos en el conjunto de datos?",
      "block_group": "9e6ffbb9bee7404ea3ed3010b280554d"
    },
    {
      "cell_type": "code",
      "metadata": {
        "source_hash": "6dd661dc",
        "execution_start": 1740513273692,
        "execution_millis": 1,
        "execution_context_id": "1651b855-d9ef-43d7-befa-6bc2b19af727",
        "cell_id": "4c72221799734aa6b3f632eb148eabaa",
        "deepnote_cell_type": "code"
      },
      "source": "(\n    proc_df\n    .dtypes\n    .value_counts()\n)",
      "block_group": "e15e3a3b2d1646c1bd96b71d6b7c54eb",
      "execution_count": 6,
      "outputs": [],
      "outputs_reference": null,
      "content_dependencies": null
    },
    {
      "cell_type": "markdown",
      "metadata": {
        "formattedRanges": [],
        "cell_id": "b289cf40bc0442c99ff6a1d5b3259b93",
        "deepnote_cell_type": "text-cell-h3"
      },
      "source": "### ¿Cuántas variables y observaciones tenemos en el conjunto de datos? ",
      "block_group": "cf31d05ff3fb4575bf23c2d30f413e78"
    },
    {
      "cell_type": "code",
      "metadata": {
        "source_hash": "3816e707",
        "execution_start": 1740513273744,
        "execution_millis": 1,
        "execution_context_id": "1651b855-d9ef-43d7-befa-6bc2b19af727",
        "cell_id": "87c106f096344548a020c07fd381d64e",
        "deepnote_cell_type": "code"
      },
      "source": "proc_df.shape",
      "block_group": "473b539b83294596ad20ecb477e657e4",
      "execution_count": 7,
      "outputs": [],
      "outputs_reference": null,
      "content_dependencies": null
    },
    {
      "cell_type": "markdown",
      "metadata": {
        "formattedRanges": [],
        "cell_id": "34e8d4d21c2b4330976f91e779468f48",
        "deepnote_cell_type": "text-cell-p"
      },
      "source": "Acá se entiende que tenemos 344 observaciones (filas) y 8 variabes por cada observación (columnas) ",
      "block_group": "9a0f716abfd64b03a8313c0219c3780f"
    },
    {
      "cell_type": "markdown",
      "metadata": {
        "formattedRanges": [],
        "cell_id": "e2ddfe6dfb2a43f19dde6b3ebd30ca69",
        "deepnote_cell_type": "text-cell-h3"
      },
      "source": "### ¿Tenemos valores nulos explícitos en mi conjunto de datos?",
      "block_group": "836d2fff7c104ff690dadc9ef2c09f69"
    },
    {
      "cell_type": "code",
      "metadata": {
        "source_hash": "e5240aa2",
        "execution_start": 1740513273792,
        "execution_millis": 0,
        "execution_context_id": "1651b855-d9ef-43d7-befa-6bc2b19af727",
        "cell_id": "e22c9d5660f04b2a9497d029c8ea1bd1",
        "deepnote_cell_type": "code"
      },
      "source": "proc_df.isnull().any()",
      "block_group": "59754bcbfa0d4dad933d26729af66765",
      "execution_count": 8,
      "outputs": [],
      "outputs_reference": null,
      "content_dependencies": null
    },
    {
      "cell_type": "markdown",
      "metadata": {
        "formattedRanges": [],
        "cell_id": "e99b162c24944282a4d0fa6a933e3289",
        "deepnote_cell_type": "text-cell-p"
      },
      "source": "Vemos que en esta tabla nos da con valores booleanos si hay o no hay valores empty.",
      "block_group": "b4e37042d2494d5b8f1df4f155e7ecf5"
    },
    {
      "cell_type": "markdown",
      "metadata": {
        "formattedRanges": [],
        "cell_id": "da590bbfbafd431cb36c62d7cb305e13",
        "deepnote_cell_type": "text-cell-p"
      },
      "source": "Para los elementos que me dió True a la existencia de valores nulos...¿cómo se cuántos de estos hay?",
      "block_group": "2adcf092e2e34a72bd9f641a4415f846"
    },
    {
      "cell_type": "code",
      "metadata": {
        "source_hash": "ca1c67ea",
        "execution_start": 1740513273840,
        "execution_millis": 0,
        "execution_context_id": "1651b855-d9ef-43d7-befa-6bc2b19af727",
        "cell_id": "23266ae136d34069997d3a91f92a26d4",
        "deepnote_cell_type": "code"
      },
      "source": "(\n    proc_df\n    .isnull()\n    .sum()\n)",
      "block_group": "b7c8cb41f4c143ef8a986e93f9054bfb",
      "execution_count": 9,
      "outputs": [],
      "outputs_reference": null,
      "content_dependencies": null
    },
    {
      "cell_type": "markdown",
      "metadata": {
        "formattedRanges": [],
        "cell_id": "e688c514793d45f1b2adbe1ad673e598",
        "deepnote_cell_type": "text-cell-p"
      },
      "source": "Esto me devuelve la cantidad de valores nulos que tengo por cada variable.",
      "block_group": "d515a7c620f84e0397eea437fafbfd78"
    },
    {
      "cell_type": "markdown",
      "metadata": {
        "formattedRanges": [],
        "cell_id": "0c6c5b48822a4f28ade537abf3119f34",
        "deepnote_cell_type": "text-cell-p"
      },
      "source": "También puedo obtener el total de todos los valores nulos que hay:",
      "block_group": "7153b105a0644b888c6fe8378f3a4f8b"
    },
    {
      "cell_type": "code",
      "metadata": {
        "source_hash": "97da4409",
        "execution_start": 1740513273888,
        "execution_millis": 0,
        "execution_context_id": "1651b855-d9ef-43d7-befa-6bc2b19af727",
        "cell_id": "e9e4a5e33dfa47b6ab3105780f0277aa",
        "deepnote_cell_type": "code"
      },
      "source": "(\n    proc_df\n    .isnull()\n    .sum()\n    .sum()\n)",
      "block_group": "fcb9124ecdd04329b5167737d5412943",
      "execution_count": 10,
      "outputs": [],
      "outputs_reference": null,
      "content_dependencies": null
    },
    {
      "cell_type": "markdown",
      "metadata": {
        "formattedRanges": [],
        "cell_id": "6bd434ef1b4f424c917e2aefe1f7ebd2",
        "deepnote_cell_type": "text-cell-p"
      },
      "source": "Vemos que hay 19 valores nulos. ",
      "block_group": "84ab0bda244947a0a4d0bd34c38cc7e0"
    },
    {
      "cell_type": "markdown",
      "metadata": {
        "formattedRanges": [],
        "cell_id": "eccce89eac4542b6af0121ee8682ea89",
        "deepnote_cell_type": "text-cell-h3"
      },
      "source": "### Proporción de valores nulos",
      "block_group": "9eb36151b2994b9cb62ac251e5bf43d2"
    },
    {
      "cell_type": "code",
      "metadata": {
        "source_hash": "59fc64df",
        "execution_start": 1740513273932,
        "execution_millis": 0,
        "execution_context_id": "1651b855-d9ef-43d7-befa-6bc2b19af727",
        "cell_id": "05004f03576348bdbc43df68de8ea4c6",
        "deepnote_cell_type": "code"
      },
      "source": "preprocessed_penguins_df = sns.load_dataset(\"penguins\")",
      "block_group": "b292a091469542d7ab604b79634b06a6",
      "execution_count": 11,
      "outputs": [],
      "outputs_reference": null,
      "content_dependencies": null
    },
    {
      "cell_type": "code",
      "metadata": {
        "source_hash": "b9c44b53",
        "execution_start": 1740513273984,
        "execution_millis": 451,
        "execution_context_id": "1651b855-d9ef-43d7-befa-6bc2b19af727",
        "cell_id": "8cdb1475593b4fa19a938f29d9d4ee6e",
        "deepnote_cell_type": "code"
      },
      "source": "(\n    proc_df\n    .isnull()\n    .melt()\n    .pipe( # usamos el método pipe para graficar\n        lambda df: (\n            sns.displot(\n                data=df,\n                y='variable',\n                hue='value',\n                multiple='fill', # pedimos la proporción\n                aspect=2\n            )\n        )\n    )\n)",
      "block_group": "45a3c71e6d0e4cf9a5e7cc991c9bb0c7",
      "execution_count": 12,
      "outputs": [],
      "outputs_reference": null,
      "content_dependencies": null
    },
    {
      "cell_type": "markdown",
      "metadata": {
        "formattedRanges": [],
        "cell_id": "cda529fed2834e74a2f767ba3f8db4d0",
        "deepnote_cell_type": "text-cell-p"
      },
      "source": "Podemos ver la cantidad de datos nulos que hay en proporción a la cantidad total de datos.",
      "block_group": "29d4b33f79064671a7a0535c7c89c04b"
    },
    {
      "cell_type": "markdown",
      "metadata": {
        "formattedRanges": [],
        "cell_id": "b45d0dd07b74413a99613ae0d78cd6e4",
        "deepnote_cell_type": "text-cell-h2"
      },
      "source": "## ¿Cómo podríamos visualizar los valores nulos en todo el conjunto de datos?",
      "block_group": "59cd8a7454f34da0aa25579ea1581ae2"
    },
    {
      "cell_type": "markdown",
      "metadata": {
        "formattedRanges": [],
        "cell_id": "f32f607785ee4ed58ad14f124bae34d5",
        "deepnote_cell_type": "text-cell-p"
      },
      "source": "Es decir, si tengo por ejemplo que todos los valores nulos vienene de una solo pinguino",
      "block_group": "60a843e725894db2920cfd8662a515c6"
    },
    {
      "cell_type": "code",
      "metadata": {
        "source_hash": "766c53b6",
        "execution_start": 1740513274781,
        "execution_millis": 343,
        "execution_context_id": "1651b855-d9ef-43d7-befa-6bc2b19af727",
        "cell_id": "54c906d06412471baa63d5875bc7ece4",
        "deepnote_cell_type": "code"
      },
      "source": "(\n    proc_df\n    .isnull()\n    .transpose()\n    # vamos a graficar los datos obtenidos\n    .pipe(\n        lambda df: (\n            sns.heatmap(\n                data=df\n            )\n        )\n    )\n)",
      "block_group": "040e94b7e0314c53a82164d301a1c1a4",
      "execution_count": 13,
      "outputs": [],
      "outputs_reference": null,
      "content_dependencies": null
    },
    {
      "cell_type": "markdown",
      "metadata": {
        "formattedRanges": [],
        "cell_id": "5e5e26804252407e9b2d020261c7ef16",
        "deepnote_cell_type": "text-cell-p"
      },
      "source": "Podemos ver que la mayoría de los valores nulos provienen de unos pocos pinguinos. Además, podemos ver que los datos faltantes son en su mayoría provenientes del sexo del pinguino.",
      "block_group": "770eb75c80ce4f2ea6fa29e0e2cf7a6b"
    },
    {
      "cell_type": "markdown",
      "metadata": {
        "formattedRanges": [],
        "cell_id": "b8c6ac8147a84cfcb904cf5624b5f117",
        "deepnote_cell_type": "text-cell-h2"
      },
      "source": "## Eliminación de los datos nulos",
      "block_group": "2170faf4b3ea4339befe152b608bbf6a"
    },
    {
      "cell_type": "markdown",
      "metadata": {
        "formattedRanges": [],
        "cell_id": "067d627019034f6b8591dd017781ffc4",
        "deepnote_cell_type": "text-cell-p"
      },
      "source": "Siempre hay que pensar bien si debemos eliminar o no los valores nulos de nuestro dataframe. Para entender bien esto, debemos ver cuantos datos perdemos cuando eliminamos los datos que son nulos:",
      "block_group": "35e9fe2386584a43bc2d2e1638b418d6"
    },
    {
      "cell_type": "code",
      "metadata": {
        "source_hash": "6da566a7",
        "execution_start": 1740513275608,
        "execution_millis": 1,
        "execution_context_id": "1651b855-d9ef-43d7-befa-6bc2b19af727",
        "cell_id": "97918f798bec4b5095021034e9ca83ed",
        "deepnote_cell_type": "code"
      },
      "source": "cleaned_df = (\n    proc_df\n    .dropna()\n)\ncleaned_df",
      "block_group": "307ad40e309343f4a695219f745213bc",
      "execution_count": 14,
      "outputs": [],
      "outputs_reference": null,
      "content_dependencies": null
    },
    {
      "cell_type": "markdown",
      "metadata": {
        "formattedRanges": [],
        "cell_id": "b1f09a98349f4b15a3372a0227acb0fd",
        "deepnote_cell_type": "text-cell-p"
      },
      "source": "Notar que pasamos de 344 datos a 333 datos.",
      "block_group": "f199e37c0f1945648b05e87cb4c3a5e9"
    },
    {
      "cell_type": "markdown",
      "source": "<a style='text-decoration:none;line-height:16px;display:flex;color:#5B5B62;padding:10px;justify-content:end;' href='https://deepnote.com?utm_source=created-in-deepnote-cell&projectId=f33e09a7-e3ae-444e-9f79-e86fca18d514' target=\"_blank\">\n<img alt='Created in deepnote.com' style='display:inline;max-height:16px;margin:0px;margin-right:7.5px;' src='data:image/svg+xml;base64,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' > </img>\nCreated in <span style='font-weight:600;margin-left:4px;'>Deepnote</span></a>",
      "metadata": {
        "created_in_deepnote_cell": true,
        "deepnote_cell_type": "markdown"
      }
    }
  ],
  "nbformat": 4,
  "nbformat_minor": 0,
  "metadata": {
    "deepnote_persisted_session": {
      "createdAt": "2025-02-25T16:17:59.656Z"
    },
    "deepnote_notebook_id": "45b6783dc8324941bf36f9c7f9e388a7"
  }
}